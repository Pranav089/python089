{
 "cells": [
  {
   "cell_type": "code",
   "execution_count": null,
   "id": "eb996799",
   "metadata": {},
   "outputs": [],
   "source": [
    "print(\"1. Compute factorial of a number using recursion\")"
   ]
  },
  {
   "cell_type": "code",
   "execution_count": null,
   "id": "4f512569",
   "metadata": {},
   "outputs": [],
   "source": [
    "def fact(n):\n",
    "    if n==1 or n==0:\n",
    "        return 1\n",
    "    else:\n",
    "        return n*fact(n-1)\n",
    "num=int(input('Enter a number : '))\n",
    "print(\"The factorial of a number is \",fact(num))"
   ]
  },
  {
   "cell_type": "code",
   "execution_count": null,
   "id": "c9a58e3e",
   "metadata": {},
   "outputs": [],
   "source": [
    "print(\"2. Create a user defined function called fib and store it in a separate file. Import and call the function in a new file to display nth Fibonacci number.\")"
   ]
  },
  {
   "cell_type": "code",
   "execution_count": null,
   "id": "0ac6c423",
   "metadata": {},
   "outputs": [],
   "source": [
    "import Fibonacci as m\n",
    "print(m.fib(5))"
   ]
  },
  {
   "cell_type": "code",
   "execution_count": null,
   "id": "393c7c63",
   "metadata": {},
   "outputs": [],
   "source": [
    "print(\"3.Read a text file and print all unique words in the file sorted alphabetically\")"
   ]
  },
  {
   "cell_type": "code",
   "execution_count": null,
   "id": "0a062297",
   "metadata": {},
   "outputs": [],
   "source": [
    "text_file = open('trial.txt', 'r')\n",
    "text = text_file.read()\n",
    "\n",
    "#cleaning\n",
    "text = text.lower()\n",
    "words = text.split()\n",
    "words = [word.strip('.,!;()[]') for word in words]\n",
    "words = [word.replace(\"'s\", '') for word in words]\n",
    "\n",
    "#finding unique\n",
    "unique = []\n",
    "for word in words:\n",
    "    if word not in unique:\n",
    "        unique.append(word)\n",
    "        \n",
    "#sort\n",
    "unique.sort()\n",
    "\n",
    "#print\n",
    "print(unique)"
   ]
  },
  {
   "cell_type": "code",
   "execution_count": null,
   "id": "69b2b516",
   "metadata": {},
   "outputs": [],
   "source": [
    "print(\"4. Solve polynomial equations by reading coefficients from the list.\")"
   ]
  },
  {
   "cell_type": "code",
   "execution_count": null,
   "id": "0c5d9a92",
   "metadata": {},
   "outputs": [],
   "source": [
    "poly = [1,2]\n",
    "\n",
    "x = int(input(\"Enter the value for x : \"))\n",
    "\n",
    "n = len(poly)\n",
    "\n",
    "\n",
    "result = 0\n",
    "\n",
    "\n",
    "for i in range(n):\n",
    "    Sum = poly[i]\n",
    "    \n",
    "    for j in range(n - i - 1):\n",
    "        Sum = Sum * x\n",
    "        result = result + Sum\n",
    "        \n",
    "print('The result after solving equation is ',result)"
   ]
  },
  {
   "cell_type": "code",
   "execution_count": null,
   "id": "d3405941",
   "metadata": {},
   "outputs": [],
   "source": [
    "print(\"5. Sort the given list according to the length of the elements present in the list.\")"
   ]
  },
  {
   "cell_type": "code",
   "execution_count": null,
   "id": "36448467",
   "metadata": {},
   "outputs": [],
   "source": [
    "strings = [\"alice\", \"bob\", \"tonystark\", \"tommy\"]\n",
    "strings.sort(key = len)\n",
    "print(strings)"
   ]
  },
  {
   "cell_type": "code",
   "execution_count": null,
   "id": "d2b0ce0e",
   "metadata": {},
   "outputs": [],
   "source": [
    "print(\"6.Read a list of words and return the length of the longest one\")"
   ]
  },
  {
   "cell_type": "code",
   "execution_count": null,
   "id": "10bb5387",
   "metadata": {},
   "outputs": [],
   "source": [
    "a=[]\n",
    "n= int(input(\"Enter the number of elements in list:\"))\n",
    "for x in range(0,n):\n",
    "    element=input(\"Enter element \" + str(x+1) + \":\")\n",
    "    a.append(element)\n",
    "max1=len(a[0])\n",
    "temp=a[0]\n",
    "for i in a:\n",
    "    if(len(i)>max1):\n",
    "        max1=len(i)\n",
    "        temp=i\n",
    "print(\"The word with the longest length is:\")\n",
    "print(temp)"
   ]
  },
  {
   "cell_type": "code",
   "execution_count": null,
   "id": "77b8bea4",
   "metadata": {},
   "outputs": [],
   "source": [
    "print(\"7. Find all numbers within the given range which are perfect squares and sum of all digits in the\")"
   ]
  },
  {
   "cell_type": "code",
   "execution_count": null,
   "id": "368ff56a",
   "metadata": {},
   "outputs": [],
   "source": [
    "l=int(input(\"Enter lower range: \"))\n",
    "u=int(input(\"Enter upper range: \"))\n",
    "a=[]\n",
    "a=[x for x in range(l,u+1) if (int(x**0.5))**2==x and\n",
    "sum(list(map(int,str(x))))<10]\n",
    "print(a)"
   ]
  },
  {
   "cell_type": "code",
   "execution_count": null,
   "id": "22065c4d",
   "metadata": {},
   "outputs": [],
   "source": [
    "print(\"8.Count the frequency of words appearing in a sentence using a dictionary.\")"
   ]
  },
  {
   "cell_type": "code",
   "execution_count": 29,
   "id": "632b4fe1",
   "metadata": {},
   "outputs": [
    {
     "name": "stdout",
     "output_type": "stream",
     "text": [
      "The frequency of words in the string are : \n",
      "{'owner': 1}\n"
     ]
    }
   ],
   "source": [
    "def word_count(str):\n",
    "    counts = dict()\n",
    "    words = str.split(\" \")\n",
    "    for word in words:\n",
    "        if word in counts:\n",
    "            counts[word] += 1\n",
    "    else:\n",
    "        counts[word] = 1\n",
    "    return counts\n",
    "print(\"The frequency of words in the string are : \")\n",
    "print( word_count('The dog carries the bag and returns the bag to the owner'))"
   ]
  },
  {
   "cell_type": "code",
   "execution_count": 1,
   "id": "aa53d1de",
   "metadata": {},
   "outputs": [
    {
     "name": "stdout",
     "output_type": "stream",
     "text": [
      "9.Create a dictionary with key as first character and value as words starting with that character.\n"
     ]
    }
   ],
   "source": [
    "print(\"9.Create a dictionary with key as first character and value as words starting with that character.\")"
   ]
  },
  {
   "cell_type": "code",
   "execution_count": 4,
   "id": "42dbd892",
   "metadata": {},
   "outputs": [
    {
     "name": "stdout",
     "output_type": "stream",
     "text": [
      "Enter a string of characters : hola amigos\n",
      "{'h': ['hola'], 'a': ['amigos']}\n"
     ]
    }
   ],
   "source": [
    "string_input = str(input(\"Enter a string of characters : \"))\n",
    "words = string_input.split()\n",
    "dictionary = {}\n",
    "for word in words:\n",
    "    if (word[0] not in dictionary.keys()):\n",
    "        dictionary[word[0]] = []\n",
    "        dictionary[word[0]].append(word)\n",
    "    else:\n",
    "        if (word not in dictionary[word[0]]):\n",
    "            dictionary[word[0]].append(word)\n",
    "\n",
    "print(dictionary)"
   ]
  },
  {
   "cell_type": "code",
   "execution_count": 5,
   "id": "6412d43e",
   "metadata": {},
   "outputs": [
    {
     "name": "stdout",
     "output_type": "stream",
     "text": [
      "10. Compute binary equivalent of a number without using recursion.\n"
     ]
    }
   ],
   "source": [
    "print(\"10. Compute binary equivalent of a number without using recursion.\")"
   ]
  },
  {
   "cell_type": "code",
   "execution_count": 6,
   "id": "f4a28414",
   "metadata": {},
   "outputs": [
    {
     "name": "stdout",
     "output_type": "stream",
     "text": [
      "Enter a number: 23\n",
      "Binary Equivalent is: \n",
      "1 0 1 1 1 "
     ]
    }
   ],
   "source": [
    "n=int(input(\"Enter a number: \"))\n",
    "a=[]\n",
    "while(n>0):\n",
    "    dig=n%2\n",
    "    a.append(dig)\n",
    "    n=n//2\n",
    "a.reverse()\n",
    "print(\"Binary Equivalent is: \")\n",
    "for i in a:\n",
    "    print(i,end=\" \")"
   ]
  },
  {
   "cell_type": "code",
   "execution_count": 7,
   "id": "0a272992",
   "metadata": {},
   "outputs": [
    {
     "name": "stdout",
     "output_type": "stream",
     "text": [
      "11. Read an input file and capitalize the first letter of every word in the file.\n"
     ]
    }
   ],
   "source": [
    "print(\"11. Read an input file and capitalize the first letter of every word in the file.\")"
   ]
  },
  {
   "cell_type": "code",
   "execution_count": null,
   "id": "d6bde08b",
   "metadata": {},
   "outputs": [],
   "source": [
    "fname = input(\"Enter file name: \")\n",
    "\n",
    "with open(fname, 'r') as f:\n",
    "    for line in f:\n",
    "        l=line.title()\n",
    "        print(l)"
   ]
  },
  {
   "cell_type": "code",
   "execution_count": 10,
   "id": "51312160",
   "metadata": {},
   "outputs": [
    {
     "name": "stdout",
     "output_type": "stream",
     "text": [
      "12. Count the numbers of characters in the string and store them in a dictionary data structure.\n"
     ]
    }
   ],
   "source": [
    "print(\"12. Count the numbers of characters in the string and store them in a dictionary data structure.\")"
   ]
  },
  {
   "cell_type": "code",
   "execution_count": 12,
   "id": "7e066a17",
   "metadata": {},
   "outputs": [
    {
     "name": "stdout",
     "output_type": "stream",
     "text": [
      "Enter a String : hello daidhasihd\n",
      "{'h': 3, 'e': 1, 'l': 2, 'o': 1, ' ': 1, 'd': 3, 'a': 2, 'i': 2, 's': 1}\n"
     ]
    }
   ],
   "source": [
    "str=input(\"Enter a String : \")\n",
    "dict = {}\n",
    "for i in str:\n",
    "    dict[i] = str.count(i)\n",
    "print (dict)"
   ]
  },
  {
   "cell_type": "code",
   "execution_count": null,
   "id": "9d28422a",
   "metadata": {},
   "outputs": [],
   "source": []
  }
 ],
 "metadata": {
  "kernelspec": {
   "display_name": "Python 3 (ipykernel)",
   "language": "python",
   "name": "python3"
  },
  "language_info": {
   "codemirror_mode": {
    "name": "ipython",
    "version": 3
   },
   "file_extension": ".py",
   "mimetype": "text/x-python",
   "name": "python",
   "nbconvert_exporter": "python",
   "pygments_lexer": "ipython3",
   "version": "3.9.12"
  }
 },
 "nbformat": 4,
 "nbformat_minor": 5
}
