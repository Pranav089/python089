{
 "cells": [
  {
   "cell_type": "code",
   "execution_count": null,
   "metadata": {},
   "outputs": [],
   "source": [
    "from scipy.stats import geom\n",
    "import matplotlib.pyplot as plt\n",
    "X = [1, 2, 3, 4, 5, 6, 7, 8, 9] \n",
    "p = 0.8\n",
    "geom_pd = geom.pmf(X, p)\n",
    "fig, ax = plt.subplots(1, 1, figsize=(8, 6))\n",
    "ax.plot(X, geom_pd, 'ro', ms=8, label='geom pmf') \n",
    "plt.ylabel(\"Probability\", fontsize=\"18\")\n",
    "plt.xlabel(\"X - No. of Throws\", fontsize=\"18\") \n",
    "plt.title(\"Geometric Distribution - No. of Throws VsProbability\", fontsize=\"18\")\n",
    "ax.vlines(X, 0, geom_pd, colors='black', lw=5, alpha=0.5)"
   ]
  }
 ],
 "metadata": {
  "language_info": {
   "name": "python"
  },
  "orig_nbformat": 4
 },
 "nbformat": 4,
 "nbformat_minor": 2
}
